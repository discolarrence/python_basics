{
 "cells": [
  {
   "cell_type": "code",
   "execution_count": 1,
   "id": "3c0590e1",
   "metadata": {},
   "outputs": [],
   "source": [
    "nibling = {'first' : 'Elijah', 'last': 'Rountree', 'age': 14}"
   ]
  },
  {
   "cell_type": "code",
   "execution_count": 2,
   "id": "696acd75",
   "metadata": {},
   "outputs": [],
   "source": [
    "nibling['game'] = 'Catan'"
   ]
  },
  {
   "cell_type": "code",
   "execution_count": 3,
   "id": "0bd48f4b",
   "metadata": {},
   "outputs": [
    {
     "name": "stdout",
     "output_type": "stream",
     "text": [
      "{'first': 'Elijah', 'last': 'Rountree', 'age': 14, 'game': 'Catan'}\n"
     ]
    }
   ],
   "source": [
    "print(nibling)"
   ]
  },
  {
   "cell_type": "code",
   "execution_count": 4,
   "id": "9cdfdce8",
   "metadata": {},
   "outputs": [],
   "source": [
    "del nibling['last']"
   ]
  },
  {
   "cell_type": "code",
   "execution_count": 5,
   "id": "2a93cd06",
   "metadata": {},
   "outputs": [
    {
     "name": "stdout",
     "output_type": "stream",
     "text": [
      "{'first': 'Elijah', 'age': 14, 'game': 'Catan'}\n"
     ]
    }
   ],
   "source": [
    "print(nibling)"
   ]
  },
  {
   "cell_type": "code",
   "execution_count": 8,
   "id": "ab3fac87",
   "metadata": {},
   "outputs": [
    {
     "name": "stdout",
     "output_type": "stream",
     "text": [
      "first\n",
      "age\n",
      "game\n"
     ]
    }
   ],
   "source": [
    "for item in nibling:\n",
    "    print(item)"
   ]
  },
  {
   "cell_type": "code",
   "execution_count": 14,
   "id": "6acb945e",
   "metadata": {},
   "outputs": [
    {
     "name": "stdout",
     "output_type": "stream",
     "text": [
      "first\n",
      "age\n",
      "game\n",
      "Elijah\n",
      "14\n",
      "Catan\n"
     ]
    }
   ],
   "source": [
    "for key in nibling.keys():\n",
    "    print(key)\n",
    "    \n",
    "for val in nibling.values():\n",
    "    print(val)"
   ]
  },
  {
   "cell_type": "code",
   "execution_count": 11,
   "id": "0b3d9da9",
   "metadata": {},
   "outputs": [
    {
     "name": "stdout",
     "output_type": "stream",
     "text": [
      "first\n",
      "Elijah\n",
      "age\n",
      "14\n",
      "game\n",
      "Catan\n"
     ]
    }
   ],
   "source": [
    "for key, value in nibling.items():\n",
    "    print(key)\n",
    "    print(value)"
   ]
  },
  {
   "cell_type": "code",
   "execution_count": 12,
   "id": "fd7fb2f0",
   "metadata": {},
   "outputs": [
    {
     "name": "stdout",
     "output_type": "stream",
     "text": [
      "first: Elijah\n",
      "last: Rountree\n",
      "age: 14\n",
      "game: Catan\n"
     ]
    }
   ],
   "source": [
    "def print_nibling (**kwargs):\n",
    "    for key, value in kwargs.items():\n",
    "        print(f'{key}: {value}')\n",
    "        \n",
    "print_nibling(first='Elijah', last='Rountree', age=14, game='Catan')\n",
    "    "
   ]
  },
  {
   "cell_type": "code",
   "execution_count": 13,
   "id": "f2e2b3be",
   "metadata": {},
   "outputs": [
    {
     "name": "stdout",
     "output_type": "stream",
     "text": [
      "first: Elijah\n",
      "age: 14\n",
      "game: Catan\n"
     ]
    }
   ],
   "source": [
    "print_nibling(**nibling)"
   ]
  }
 ],
 "metadata": {
  "kernelspec": {
   "display_name": "Python 3",
   "language": "python",
   "name": "python3"
  },
  "language_info": {
   "codemirror_mode": {
    "name": "ipython",
    "version": 3
   },
   "file_extension": ".py",
   "mimetype": "text/x-python",
   "name": "python",
   "nbconvert_exporter": "python",
   "pygments_lexer": "ipython3",
   "version": "3.8.8"
  }
 },
 "nbformat": 4,
 "nbformat_minor": 5
}
