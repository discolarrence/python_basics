{
 "cells": [
  {
   "cell_type": "code",
   "execution_count": 1,
   "id": "9afe6a68",
   "metadata": {},
   "outputs": [],
   "source": [
    "my_name = \"Laura\""
   ]
  },
  {
   "cell_type": "code",
   "execution_count": 2,
   "id": "d16aeffd",
   "metadata": {},
   "outputs": [
    {
     "name": "stdout",
     "output_type": "stream",
     "text": [
      "L\n",
      "a\n",
      "u\n",
      "r\n",
      "a\n"
     ]
    }
   ],
   "source": [
    "for letter in my_name:\n",
    "    print(letter)"
   ]
  },
  {
   "cell_type": "code",
   "execution_count": 3,
   "id": "a11b9972",
   "metadata": {},
   "outputs": [],
   "source": [
    "groceries = ['chicken', 'cucumber', 'tomato', 'lettuce', 'bread', 'dog food']"
   ]
  },
  {
   "cell_type": "code",
   "execution_count": 4,
   "id": "d4f5ab7b",
   "metadata": {},
   "outputs": [
    {
     "name": "stdout",
     "output_type": "stream",
     "text": [
      "1. chicken\n",
      "2. cucumber\n",
      "3. tomato\n",
      "4. lettuce\n",
      "5. bread\n",
      "6. dog food\n"
     ]
    }
   ],
   "source": [
    "index = 1\n",
    "for item in groceries:\n",
    "    print(f'{index}. {item}')\n",
    "    index +=1"
   ]
  },
  {
   "cell_type": "code",
   "execution_count": 5,
   "id": "96dac50c",
   "metadata": {},
   "outputs": [
    {
     "name": "stdout",
     "output_type": "stream",
     "text": [
      "1. chicken\n",
      "2. cucumber\n",
      "3. tomato\n",
      "4. lettuce\n",
      "5. bread\n",
      "6. dog food\n"
     ]
    }
   ],
   "source": [
    "for index, item in enumerate(groceries, 1):\n",
    "    print(f'{index}. {item}')"
   ]
  },
  {
   "cell_type": "code",
   "execution_count": 6,
   "id": "25d52393",
   "metadata": {
    "scrolled": true
   },
   "outputs": [
    {
     "name": "stdout",
     "output_type": "stream",
     "text": [
      "4\n",
      "6\n",
      "8\n"
     ]
    }
   ],
   "source": [
    "for i in range(4,10,2):\n",
    "    print(i)"
   ]
  },
  {
   "cell_type": "code",
   "execution_count": 7,
   "id": "f995d1f9",
   "metadata": {
    "scrolled": true
   },
   "outputs": [
    {
     "name": "stdout",
     "output_type": "stream",
     "text": [
      "0\n",
      "1\n",
      "2\n",
      "3\n",
      "4\n",
      "5\n",
      "6\n",
      "7\n",
      "8\n",
      "9\n"
     ]
    }
   ],
   "source": [
    "for i in range(10):\n",
    "    print(i)"
   ]
  },
  {
   "cell_type": "code",
   "execution_count": 8,
   "id": "19be353c",
   "metadata": {
    "scrolled": true
   },
   "outputs": [
    {
     "name": "stdout",
     "output_type": "stream",
     "text": [
      "[1, 3, 5, 7]\n",
      "['green', 'blue', 'indigo']\n"
     ]
    }
   ],
   "source": [
    "nums = [1, 2, 3, 4, 5, 6, 7, 8]\n",
    "nums_partial = nums[0::2]\n",
    "print(nums_partial)\n",
    "\n",
    "rainbow = ['red', 'orange', 'yellow', 'green', 'blue', 'indigo', 'violet']\n",
    "colors_partial = rainbow[3:6]\n",
    "print(colors_partial)"
   ]
  },
  {
   "cell_type": "code",
   "execution_count": 9,
   "id": "3ef17b55",
   "metadata": {
    "scrolled": true
   },
   "outputs": [
    {
     "name": "stdout",
     "output_type": "stream",
     "text": [
      "orange\n",
      "['orange', 'yellow', 'green']\n",
      "['green', 'blue', 'indigo', 'violet']\n",
      "['red', 'yellow', 'blue', 'violet']\n",
      "['violet', 'indigo', 'blue', 'green', 'yellow', 'orange', 'red']\n"
     ]
    }
   ],
   "source": [
    "print(rainbow[1])\n",
    "print(rainbow[1:4])\n",
    "print(rainbow[3:])\n",
    "print(rainbow[::2])\n",
    "print(rainbow[::-1])\n"
   ]
  },
  {
   "cell_type": "code",
   "execution_count": 10,
   "id": "79ff1e45",
   "metadata": {
    "scrolled": true
   },
   "outputs": [
    {
     "name": "stdout",
     "output_type": "stream",
     "text": [
      "10\n",
      "10\n",
      "1\n"
     ]
    }
   ],
   "source": [
    "nums = (1, 2, 3, 4, 5, 6, 7, 8, 9, 10)\n",
    "print(len(nums))\n",
    "print(max(nums))\n",
    "print(min(nums))"
   ]
  },
  {
   "cell_type": "code",
   "execution_count": 11,
   "id": "8968df1a",
   "metadata": {
    "scrolled": false
   },
   "outputs": [
    {
     "name": "stdout",
     "output_type": "stream",
     "text": [
      "9\n",
      "t\n",
      "B\n"
     ]
    }
   ],
   "source": [
    "my_string = 'Bernethia'\n",
    "print(len(my_string))\n",
    "print(max(my_string))\n",
    "print(min(my_string))"
   ]
  },
  {
   "cell_type": "code",
   "execution_count": 12,
   "id": "20084fdb",
   "metadata": {
    "scrolled": true
   },
   "outputs": [
    {
     "name": "stdout",
     "output_type": "stream",
     "text": [
      "9\n",
      "u\n",
      "1\n"
     ]
    }
   ],
   "source": [
    "mixed_string = 'Laura1978'\n",
    "print(len(mixed_string))\n",
    "print(max(mixed_string))\n",
    "print(min(mixed_string))"
   ]
  },
  {
   "cell_type": "code",
   "execution_count": 13,
   "id": "7c8222c1",
   "metadata": {},
   "outputs": [],
   "source": [
    "docs = 'Tuples are immutable sequences, typically used to store collections of heterogeneous data (such as the 2-tuples produced by the enumerate() built-in). Tuples are also used for cases where an immutable sequence of homogeneous data is needed (such as allowing storage in a set or dict instance).'"
   ]
  },
  {
   "cell_type": "code",
   "execution_count": 14,
   "id": "eee1e474",
   "metadata": {},
   "outputs": [
    {
     "name": "stdout",
     "output_type": "stream",
     "text": [
      "tuple is here\n"
     ]
    }
   ],
   "source": [
    "if 'tuple' in docs:\n",
    "    print('tuple is here')\n",
    "else:\n",
    "    print('tuple is not here')"
   ]
  },
  {
   "cell_type": "code",
   "execution_count": 15,
   "id": "cb2a1538",
   "metadata": {},
   "outputs": [
    {
     "name": "stdout",
     "output_type": "stream",
     "text": [
      "list is not here\n"
     ]
    }
   ],
   "source": [
    "if 'list' not in docs:\n",
    "    print('list is not here')\n",
    "else:\n",
    "    print('list is here')"
   ]
  },
  {
   "cell_type": "code",
   "execution_count": 16,
   "id": "f10716a6",
   "metadata": {},
   "outputs": [
    {
     "name": "stdout",
     "output_type": "stream",
     "text": [
      "1\n",
      "105\n"
     ]
    }
   ],
   "source": [
    "print(docs.count('tuple'))\n",
    "print(docs.index('tuple'))"
   ]
  },
  {
   "cell_type": "code",
   "execution_count": 17,
   "id": "b69e76bb",
   "metadata": {
    "scrolled": true
   },
   "outputs": [
    {
     "name": "stdout",
     "output_type": "stream",
     "text": [
      "1\n",
      "2\n"
     ]
    },
    {
     "ename": "ValueError",
     "evalue": "'Heather' is not in list",
     "output_type": "error",
     "traceback": [
      "\u001b[1;31m---------------------------------------------------------------------------\u001b[0m",
      "\u001b[1;31mValueError\u001b[0m                                Traceback (most recent call last)",
      "\u001b[1;32m<ipython-input-17-83af18e34510>\u001b[0m in \u001b[0;36m<module>\u001b[1;34m\u001b[0m\n\u001b[0;32m      2\u001b[0m \u001b[0mprint\u001b[0m\u001b[1;33m(\u001b[0m\u001b[0mniblings\u001b[0m\u001b[1;33m.\u001b[0m\u001b[0mindex\u001b[0m\u001b[1;33m(\u001b[0m\u001b[1;34m'Elijah'\u001b[0m\u001b[1;33m)\u001b[0m\u001b[1;33m)\u001b[0m\u001b[1;33m\u001b[0m\u001b[1;33m\u001b[0m\u001b[0m\n\u001b[0;32m      3\u001b[0m \u001b[0mprint\u001b[0m\u001b[1;33m(\u001b[0m\u001b[0mniblings\u001b[0m\u001b[1;33m.\u001b[0m\u001b[0mindex\u001b[0m\u001b[1;33m(\u001b[0m\u001b[1;34m'Roman'\u001b[0m\u001b[1;33m)\u001b[0m\u001b[1;33m)\u001b[0m\u001b[1;33m\u001b[0m\u001b[1;33m\u001b[0m\u001b[0m\n\u001b[1;32m----> 4\u001b[1;33m \u001b[0mprint\u001b[0m\u001b[1;33m(\u001b[0m\u001b[0mniblings\u001b[0m\u001b[1;33m.\u001b[0m\u001b[0mindex\u001b[0m\u001b[1;33m(\u001b[0m\u001b[1;34m'Heather'\u001b[0m\u001b[1;33m)\u001b[0m\u001b[1;33m)\u001b[0m\u001b[1;33m\u001b[0m\u001b[1;33m\u001b[0m\u001b[0m\n\u001b[0m",
      "\u001b[1;31mValueError\u001b[0m: 'Heather' is not in list"
     ]
    }
   ],
   "source": [
    "niblings = ['Liam', 'Elijah', 'Roman', 'Camden', 'Sammie', 'Sophie', 'Roman']\n",
    "print(niblings.index('Elijah'))\n",
    "print(niblings.index('Roman'))\n",
    "print(niblings.index('Heather'))"
   ]
  },
  {
   "cell_type": "code",
   "execution_count": 18,
   "id": "6a65e30d",
   "metadata": {},
   "outputs": [
    {
     "name": "stdout",
     "output_type": "stream",
     "text": [
      "[1, 2, 3, 4, 4, 5, 6, 7]\n"
     ]
    }
   ],
   "source": [
    "object1 = [1, 2, 3, 4]\n",
    "object2 = [4, 5, 6, 7]\n",
    "object1 += object2\n",
    "print(object1)"
   ]
  },
  {
   "cell_type": "code",
   "execution_count": 19,
   "id": "9afe4d8e",
   "metadata": {
    "scrolled": true
   },
   "outputs": [
    {
     "data": {
      "text/plain": [
       "[1, 2, 3, 1, 2, 3]"
      ]
     },
     "execution_count": 19,
     "metadata": {},
     "output_type": "execute_result"
    }
   ],
   "source": [
    "nums1 = [1, 2, 3]\n",
    "\n",
    "nums1 * 2 # [1, 2, 3, 1, 2, 3]"
   ]
  },
  {
   "cell_type": "code",
   "execution_count": 20,
   "id": "ce7dd954",
   "metadata": {},
   "outputs": [
    {
     "name": "stdout",
     "output_type": "stream",
     "text": [
      "['Big Girl', 'New Girl', 'The Other One', 'Strong Twin', 'Sickly Twin', 'Blackbutt']\n"
     ]
    }
   ],
   "source": [
    "my_pets = ['Big Girl', 'New Girl', 'The Other One', 'Strong Twin', 'Sickly Twin']\n",
    "\n",
    "my_pets.append('Blackbutt')\n",
    "\n",
    "print(my_pets)"
   ]
  },
  {
   "cell_type": "code",
   "execution_count": 21,
   "id": "7bc1ee54",
   "metadata": {},
   "outputs": [
    {
     "name": "stdout",
     "output_type": "stream",
     "text": [
      "['The Other One', 'Strong Twin', 'Sickly Twin', 'Blackbutt']\n"
     ]
    }
   ],
   "source": [
    "del my_pets[0:2]\n",
    "\n",
    "print(my_pets)"
   ]
  },
  {
   "cell_type": "code",
   "execution_count": 22,
   "id": "6df96fac",
   "metadata": {},
   "outputs": [
    {
     "name": "stdout",
     "output_type": "stream",
     "text": [
      "['Blackbutt', 'Sickly Twin', 'Strong Twin', 'The Other One']\n"
     ]
    }
   ],
   "source": [
    "my_pets.reverse()\n",
    "\n",
    "print(my_pets)"
   ]
  },
  {
   "cell_type": "code",
   "execution_count": 23,
   "id": "aae8fa1a",
   "metadata": {},
   "outputs": [
    {
     "name": "stdout",
     "output_type": "stream",
     "text": [
      "['apple', 'banana', 'kiwi', 'orange', 'pear', 'strawberry']\n"
     ]
    }
   ],
   "source": [
    "fruits = ['apple', 'banana', 'orange', 'pear', 'strawberry']\n",
    "\n",
    "fruits.insert(2, 'kiwi')\n",
    "\n",
    "print(fruits)"
   ]
  },
  {
   "cell_type": "code",
   "execution_count": 24,
   "id": "c6c4fda2",
   "metadata": {},
   "outputs": [
    {
     "name": "stdout",
     "output_type": "stream",
     "text": [
      "['apple', 'banana', 'kiwi', 'orange', 'strawberry']\n"
     ]
    }
   ],
   "source": [
    "fruits.remove('pear')\n",
    "\n",
    "print(fruits)"
   ]
  },
  {
   "cell_type": "code",
   "execution_count": 25,
   "id": "03d7887f",
   "metadata": {},
   "outputs": [
    {
     "name": "stdout",
     "output_type": "stream",
     "text": [
      "apple\n",
      "['banana', 'kiwi', 'orange', 'strawberry']\n"
     ]
    }
   ],
   "source": [
    "apple = fruits.pop(0)\n",
    "\n",
    "print(apple)\n",
    "print(fruits)"
   ]
  }
 ],
 "metadata": {
  "kernelspec": {
   "display_name": "Python 3",
   "language": "python",
   "name": "python3"
  },
  "language_info": {
   "codemirror_mode": {
    "name": "ipython",
    "version": 3
   },
   "file_extension": ".py",
   "mimetype": "text/x-python",
   "name": "python",
   "nbconvert_exporter": "python",
   "pygments_lexer": "ipython3",
   "version": "3.8.8"
  }
 },
 "nbformat": 4,
 "nbformat_minor": 5
}
